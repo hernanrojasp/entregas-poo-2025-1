{
  "nbformat": 4,
  "nbformat_minor": 0,
  "metadata": {
    "colab": {
      "provenance": []
    },
    "kernelspec": {
      "name": "python3",
      "display_name": "Python 3"
    },
    "language_info": {
      "name": "python"
    }
  },
  "cells": [
    {
      "cell_type": "code",
      "execution_count": 4,
      "metadata": {
        "colab": {
          "base_uri": "https://localhost:8080/"
        },
        "id": "1Q3I1vzb-vUu",
        "outputId": "7088b95b-4968-4956-9c3a-8a17edd7d9db"
      },
      "outputs": [
        {
          "output_type": "stream",
          "name": "stdout",
          "text": [
            "Actualmente hay 3 productos disponibles en el inventario.\n",
            "¿Qué información necesitas? (total_productos, producto, precio, cantidad, descripcion) o 'salir': salir\n",
            "\n",
            "> Resumen del inventario:\n",
            "|Producto     |Cantidad             |Precio           |Descripción          |Categoría      |Total en inventario     |Precio x5 unidades     |\n",
            "|-------------|---------------------|-----------------|---------------------|---------------|------------------------|-----------------------|\n",
            "|galletas     |20          unidades |1500       pesos |Galletas de chocol...|snacks         |30000             pesos |7500             pesos |\n",
            "|jugo         |10          unidades |2500       pesos |Jugo de naranja 1L...|bebidas        |25000             pesos |12500            pesos |\n",
            "|arroz        |8           unidades |4000       pesos |Bolsa de arroz 2kg...|granos         |32000             pesos |20000            pesos |\n",
            "\n",
            "Costo total por categoría:\n",
            "| Categoría  | Costo Total |\n",
            "|------------|------------|\n",
            "| snacks     | 30000       pesos |\n",
            "| bebidas    | 25000       pesos |\n",
            "| granos     | 32000       pesos |\n"
          ]
        }
      ],
      "source": [
        "class Producto:\n",
        "    # Clase que representa un producto en el inventario\n",
        "    def __init__(self, nombre, precio, cantidad, descripcion, categoria):\n",
        "        self.nombre = nombre\n",
        "        self.precio = precio\n",
        "        self.cantidad = cantidad\n",
        "        self.descripcion = descripcion\n",
        "        self.categoria = categoria\n",
        "\n",
        "    def calcula_precio(self, cantidad):\n",
        "        \"\"\"Devuelve el precio total según la cantidad solicitada.\"\"\"\n",
        "        return self.precio * cantidad\n",
        "\n",
        "    def inventario_precio(self):\n",
        "        \"\"\"Devuelve el valor total de la mercancía en inventario.\"\"\"\n",
        "        return self.precio * self.cantidad\n",
        "\n",
        "# Lista de productos predefinidos\n",
        "productos = [\n",
        "    Producto(\"galletas\", 1500, 20, \"Galletas de chocolate 200g\", \"snacks\"),\n",
        "    Producto(\"jugo\", 2500, 10, \"Jugo de naranja 1L\", \"bebidas\"),\n",
        "    Producto(\"arroz\", 4000, 8, \"Bolsa de arroz 2kg\", \"granos\")\n",
        "]\n",
        "\n",
        "# Muestra el número total de productos en inventario\n",
        "print(f\"Actualmente hay {len(productos)} productos disponibles en el inventario.\")\n",
        "\n",
        "# Bucle para consultas de productos\n",
        "while True:\n",
        "    consulta = input(\"¿Qué información necesitas? (total_productos, producto, precio, cantidad, descripcion) o 'salir': \").lower()\n",
        "\n",
        "    if consulta == \"total_productos\":\n",
        "        print(f\"El inventario cuenta con {sum(p.cantidad for p in productos)} unidades en total.\")\n",
        "    elif consulta in [\"producto\", \"precio\", \"cantidad\", \"descripcion\"]:\n",
        "        num = input(\"Ingrese el número del producto (1, 2, 3): \")\n",
        "        if num in [\"1\", \"2\", \"3\"]:\n",
        "            p = productos[int(num) - 1]\n",
        "            if consulta == \"producto\":\n",
        "                print(f\"El producto seleccionado es: {p.nombre}\")\n",
        "            elif consulta == \"precio\":\n",
        "                print(f\"El precio de {p.nombre} es: {p.precio} pesos\")\n",
        "            elif consulta == \"cantidad\":\n",
        "                print(f\"Cantidad disponible de {p.nombre}: {p.cantidad} unidades\")\n",
        "            elif consulta == \"descripcion\":\n",
        "                print(f\"Descripción: {p.descripcion}\")\n",
        "        else:\n",
        "            print(\"Número no válido.\")\n",
        "    elif consulta == \"salir\":\n",
        "        break\n",
        "    else:\n",
        "        print(\"Comando no reconocido, intenta de nuevo.\")\n",
        "\n",
        "# Mostrar inventario completo\n",
        "print(\"\\n> Resumen del inventario:\")\n",
        "print(\"|Producto     |Cantidad             |Precio           |Descripción          |Categoría      |Total en inventario     |Precio x5 unidades     |\")\n",
        "print(\"|-------------|---------------------|-----------------|---------------------|---------------|------------------------|-----------------------|\")\n",
        "for producto in productos:\n",
        "    print(f\"|{producto.nombre:<12} |{producto.cantidad:<11} unidades |{producto.precio:<10} pesos |{producto.descripcion[:18]:<18}...|{producto.categoria:<14} |{producto.inventario_precio():<17} pesos |{producto.calcula_precio(5):<16} pesos |\")\n",
        "\n",
        "# Cálculo del costo total por categoría\n",
        "costos_por_categoria = {}\n",
        "for p in productos:\n",
        "    if p.categoria in costos_por_categoria:\n",
        "        costos_por_categoria[p.categoria] += p.inventario_precio()\n",
        "    else:\n",
        "        costos_por_categoria[p.categoria] = p.inventario_precio()\n",
        "\n",
        "# Mostrar resumen de costos por categoría\n",
        "print(\"\\nCosto total por categoría:\")\n",
        "print(\"| Categoría  | Costo Total |\")\n",
        "print(\"|------------|------------|\")\n",
        "for categoria, costo in costos_por_categoria.items():\n",
        "    print(f\"| {categoria:<10} | {costo:<11} pesos |\")\n"
      ]
    }
  ]
}