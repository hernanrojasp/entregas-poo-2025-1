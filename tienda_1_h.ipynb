{
  "nbformat": 4,
  "nbformat_minor": 0,
  "metadata": {
    "colab": {
      "provenance": [],
      "authorship_tag": "ABX9TyOAadhmYpqQ7ugZeEdkZ1PN",
      "include_colab_link": true
    },
    "kernelspec": {
      "name": "python3",
      "display_name": "Python 3"
    },
    "language_info": {
      "name": "python"
    }
  },
  "cells": [
    {
      "cell_type": "markdown",
      "metadata": {
        "id": "view-in-github",
        "colab_type": "text"
      },
      "source": [
        "<a href=\"https://colab.research.google.com/github/hernanrojasp/entregas-poo-2025-1/blob/main/tienda_1_h.ipynb\" target=\"_parent\"><img src=\"https://colab.research.google.com/assets/colab-badge.svg\" alt=\"Open In Colab\"/></a>"
      ]
    },
    {
      "cell_type": "code",
      "execution_count": 5,
      "metadata": {
        "id": "1nJ6kuYlQXEi",
        "colab": {
          "base_uri": "https://localhost:8080/"
        },
        "outputId": "4ac2a10f-fa1e-4c6a-da86-d902335f73bc"
      },
      "outputs": [
        {
          "output_type": "stream",
          "name": "stdout",
          "text": [
            "\n",
            "¿Qué productos, precios o catidad de productos quieres cunsultar? (productos, cantidad, precio, salir): productos\n",
            "jamon, platanos, jugos\n",
            "\n",
            "¿Qué productos, precios o catidad de productos quieres cunsultar? (productos, cantidad, precio, salir): cantidad\n",
            "jamon: 10 unidades\n",
            "platanos: 5 unidades\n",
            "jugos: 20 unidades\n",
            "\n",
            "¿Qué productos, precios o catidad de productos quieres cunsultar? (productos, cantidad, precio, salir): precio\n",
            "jamon: 500 pesos\n",
            "platanos: 3000 pesos\n",
            "jugos: 600 pesos\n",
            "\n",
            "¿Qué productos, precios o catidad de productos quieres cunsultar? (productos, cantidad, precio, salir): salir\n",
            "\n",
            "Resumen del Inventario:\n",
            "| Productos | Cantidad | Precio  |\n",
            "|-----------|---------|--------|\n",
            "| jamon     | 10 unidades | 500 pesos |\n",
            "| platanos  | 5 unidades | 3000 pesos |\n",
            "| jugos     | 20 unidades | 600 pesos |\n"
          ]
        }
      ],
      "source": [
        "class Inventario:\n",
        "    def __init__(self):\n",
        "        \"\"\"Inicializa el inventario con algunos productos predefinidos.\"\"\"\n",
        "        self.productos = {\n",
        "            \"jamon\": (500, 10),\n",
        "            \"platanos\": (3000, 5),\n",
        "            \"jugos\": (600, 20)\n",
        "        }\n",
        "\n",
        "    def mostrar_productos(self):\n",
        "        \"\"\"Muestra la lista de productos disponibles.\"\"\"\n",
        "        print(\", \".join(self.productos.keys()))\n",
        "\n",
        "    def mostrar_info(self, tipo):\n",
        "        \"\"\"Muestra la cantidad o el precio de cada producto.\"\"\"\n",
        "        if tipo not in [\"cantidad\", \"precio\"]:\n",
        "            print(\"Comando no reconocido.\")\n",
        "            return\n",
        "\n",
        "        for producto, (precio, cantidad) in self.productos.items():\n",
        "            valor = precio if tipo == \"precio\" else cantidad\n",
        "            unidad = \"pesos\" if tipo == \"precio\" else \"unidades\"\n",
        "            print(f\"{producto}: {valor} {unidad}\")\n",
        "\n",
        "    def mostrar_inventario(self):\n",
        "        \"\"\"Muestra el inventario en formato de tabla.\"\"\"\n",
        "        print(\"\\nResumen del Inventario:\")\n",
        "        print(\"| Productos | Cantidad | Precio  |\")\n",
        "        print(\"|-----------|---------|--------|\")\n",
        "        for producto, (precio, cantidad) in self.productos.items():\n",
        "            print(f\"| {producto:<9} | {cantidad} unidades | {precio} pesos |\")\n",
        "\n",
        "    def iniciar(self):\n",
        "        \"\"\"Inicia el bucle de consulta del usuario.\"\"\"\n",
        "        while True:\n",
        "            consulta = input(\"\\n¿Qué productos, precios o catidad de productos quieres cunsultar? (productos, cantidad, precio, salir): \").lower()\n",
        "            if consulta == \"productos\":\n",
        "                self.mostrar_productos()\n",
        "            elif consulta in [\"cantidad\", \"precio\"]:\n",
        "                self.mostrar_info(consulta)\n",
        "            elif consulta == \"salir\":\n",
        "                break\n",
        "            else:\n",
        "                print(\"Comando no reconocido.\")\n",
        "\n",
        "        self.mostrar_inventario()\n",
        "\n",
        "\n",
        "# Punto de entrada del programa\n",
        "if __name__ == \"__main__\":\n",
        "    inventario = Inventario()\n",
        "    inventario.iniciar()\n"
      ]
    }
  ]
}