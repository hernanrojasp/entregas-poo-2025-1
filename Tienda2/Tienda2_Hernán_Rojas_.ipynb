{
  "nbformat": 4,
  "nbformat_minor": 0,
  "metadata": {
    "colab": {
      "provenance": [],
      "authorship_tag": "ABX9TyO41efq9948AfB38dibuoDu",
      "include_colab_link": true
    },
    "kernelspec": {
      "name": "python3",
      "display_name": "Python 3"
    },
    "language_info": {
      "name": "python"
    }
  },
  "cells": [
    {
      "cell_type": "markdown",
      "metadata": {
        "id": "view-in-github",
        "colab_type": "text"
      },
      "source": [
        "<a href=\"https://colab.research.google.com/github/hernanrojasp/entregas-poo-2025-1/blob/main/Tienda2_Hern%C3%A1n_Rojas_.ipynb\" target=\"_parent\"><img src=\"https://colab.research.google.com/assets/colab-badge.svg\" alt=\"Open In Colab\"/></a>"
      ]
    },
    {
      "cell_type": "code",
      "execution_count": 1,
      "metadata": {
        "id": "PgR15D9rboMx",
        "colab": {
          "base_uri": "https://localhost:8080/"
        },
        "outputId": "5cf10818-a1f1-4849-bfc9-54ae9c142f1e"
      },
      "outputs": [
        {
          "output_type": "stream",
          "name": "stdout",
          "text": [
            "Actualmente hay 3 productos disponibles en el inventario.\n",
            "¿Qué información necesitas? (total_productos, producto, precio, cantidad, descripcion) o 'salir': salir\n",
            "\n",
            "Resumen del Inventario:\n",
            "| Producto  | Cantidad   | Precio    | Descripción            | Categoría   |\n",
            "|-----------|------------|-----------|------------------------|------------|\n",
            "| galletas  | 20         | 1500      | Galletas de chocolat | snacks     |\n",
            "| jugo      | 10         | 2500      | Jugo de naranja 1L   | bebidas    |\n",
            "| arroz     | 8          | 4000      | Bolsa de arroz 2kg   | granos     |\n",
            "\n",
            "Costo total por categoría:\n",
            "| Categoría  | Costo Total |\n",
            "|------------|------------|\n",
            "| snacks     | 30000       pesos |\n",
            "| bebidas    | 25000       pesos |\n",
            "| granos     | 32000       pesos |\n"
          ]
        }
      ],
      "source": [
        "class Producto:\n",
        "    # Clase que representa un producto en el inventario\n",
        "    def __init__(self, nombre, precio, cantidad, descripcion, categoria):\n",
        "        self.nombre = nombre\n",
        "        self.precio = precio\n",
        "        self.cantidad = cantidad\n",
        "        self.descripcion = descripcion\n",
        "        self.categoria = categoria\n",
        "\n",
        "# Lista de productos predefinidos\n",
        "productos = [\n",
        "    Producto(\"galletas\", 1500, 20, \"Galletas de chocolate 200g\", \"snacks\"),\n",
        "    Producto(\"jugo\", 2500, 10, \"Jugo de naranja 1L\", \"bebidas\"),\n",
        "    Producto(\"arroz\", 4000, 8, \"Bolsa de arroz 2kg\", \"granos\")\n",
        "]\n",
        "\n",
        "# Muestra el número total de productos en inventario\n",
        "print(f\"Actualmente hay {len(productos)} productos disponibles en el inventario.\")\n",
        "\n",
        "# Bucle para consultas de productos\n",
        "while True:\n",
        "    consulta = input(\"¿Qué información necesitas? (total_productos, producto, precio, cantidad, descripcion) o 'salir': \").lower()\n",
        "\n",
        "    if consulta == \"total_productos\":\n",
        "        print(f\"El inventario cuenta con {sum(p.cantidad for p in productos)} unidades en total.\")\n",
        "    elif consulta == \"producto\":\n",
        "        num = input(\"Ingrese el número del producto (1, 2, 3): \")\n",
        "        if num in [\"1\", \"2\", \"3\"]:\n",
        "            print(f\"El producto seleccionado es: {productos[int(num)-1].nombre}\")\n",
        "        else:\n",
        "            print(\"Número no válido.\")\n",
        "    elif consulta == \"precio\":\n",
        "        num = input(\"Ingrese el número del producto (1, 2, 3): \")\n",
        "        if num in [\"1\", \"2\", \"3\"]:\n",
        "            print(f\"El precio de {productos[int(num)-1].nombre} es: {productos[int(num)-1].precio} pesos\")\n",
        "        else:\n",
        "            print(\"Número no válido.\")\n",
        "    elif consulta == \"cantidad\":\n",
        "        num = input(\"Ingrese el número del producto (1, 2, 3): \")\n",
        "        if num in [\"1\", \"2\", \"3\"]:\n",
        "            print(f\"Cantidad disponible de {productos[int(num)-1].nombre}: {productos[int(num)-1].cantidad} unidades\")\n",
        "        else:\n",
        "            print(\"Número no válido.\")\n",
        "    elif consulta == \"descripcion\":\n",
        "        num = input(\"Ingrese el número del producto (1, 2, 3): \")\n",
        "        if num in [\"1\", \"2\", \"3\"]:\n",
        "            print(f\"Descripción: {productos[int(num)-1].descripcion}\")\n",
        "        else:\n",
        "            print(\"Número no válido.\")\n",
        "    elif consulta == \"salir\":\n",
        "        break\n",
        "    else:\n",
        "        print(\"Comando no reconocido, intenta de nuevo.\")\n",
        "\n",
        "# Función para mostrar el inventario completo\n",
        "def mostrar_inventario():\n",
        "    print(\"\\nResumen del Inventario:\")\n",
        "    print(\"| Producto  | Cantidad   | Precio    | Descripción            | Categoría   |\")\n",
        "    print(\"|-----------|------------|-----------|------------------------|------------|\")\n",
        "    for p in productos:\n",
        "        print(f\"| {p.nombre:<9} | {p.cantidad:<10} | {p.precio:<9} | {p.descripcion[:20]:<20} | {p.categoria:<10} |\")\n",
        "\n",
        "# Mostrar inventario actualizado\n",
        "mostrar_inventario()\n",
        "\n",
        "# Cálculo del costo total por categoría\n",
        "costos_por_categoria = {}\n",
        "for p in productos:\n",
        "    if p.categoria in costos_por_categoria:\n",
        "        costos_por_categoria[p.categoria] += p.precio * p.cantidad\n",
        "    else:\n",
        "        costos_por_categoria[p.categoria] = p.precio * p.cantidad\n",
        "\n",
        "# Mostrar resumen de costos por categoría\n",
        "print(\"\\nCosto total por categoría:\")\n",
        "print(\"| Categoría  | Costo Total |\")\n",
        "print(\"|------------|------------|\")\n",
        "for categoria, costo in costos_por_categoria.items():\n",
        "    print(f\"| {categoria:<10} | {costo:<11} pesos |\")"
      ]
    }
  ]
}